{
 "cells": [
  {
   "cell_type": "code",
   "execution_count": 65,
   "metadata": {},
   "outputs": [
    {
     "name": "stdout",
     "output_type": "stream",
     "text": [
      "{\n",
      "    \"Type\": \"OrderPlaced\",\n",
      "    \"Data\": {\n",
      "        \"OrderId\": \"q6jym6e8-n9b0-r8zj-d7hc-uvefb2n5ws36\",\n",
      "        \"TimestampUtc\": \"2018-01-07T18:11:44Z\"\n",
      "    }\n",
      "}\n",
      "{\n",
      "    \"Type\": \"OrderPlaced\",\n",
      "    \"Data\": {\n",
      "        \"OrderId\": \"5pgvu0np-1y3g-qgbj-9v90-0gdjdjco8w41\",\n",
      "        \"TimestampUtc\": \"2018-01-07T18:11:44Z\"\n",
      "    }\n",
      "}\n",
      "{\n",
      "    \"Type\": \"OrderPlaced\",\n",
      "    \"Data\": {\n",
      "        \"OrderId\": \"m0lpbak5-zl74-h43f-spvu-hul09pdroh2l\",\n",
      "        \"TimestampUtc\": \"2018-01-07T18:11:44Z\"\n",
      "    }\n",
      "}\n",
      "{\n",
      "    \"Type\": \"OrderPlaced\",\n",
      "    \"Data\": {\n",
      "        \"OrderId\": \"zou3ao5w-k2bh-dpzw-kdui-lwtzp8wlp367\",\n",
      "        \"TimestampUtc\": \"2018-01-07T18:11:44Z\"\n",
      "    }\n",
      "}\n"
     ]
    }
   ],
   "source": [
    "import string\n",
    "import random\n",
    "import datetime\n",
    "import json\n",
    "\n",
    "def id_generator(size=6, chars=string.ascii_lowercase + string.digits):\n",
    "    return ''.join(random.choice(chars) for _ in range(size))\n",
    "\n",
    "class Object:\n",
    "    def toJSON(self):\n",
    "        return json.dumps(self, default=lambda o: o.__dict__, \n",
    "            sort_keys=False, indent=4)\n",
    "\n",
    "for i in range(0,4):\n",
    "    \n",
    "    hour=datetime.datetime.now().strftime('%Y'+'-'+'%m'+'-'+'%d'+'T'+'%H'+':'+'%M'+':'+'%S'+'Z')\n",
    "    \n",
    "    \n",
    "    typeOrder=['OrderPlaced','OrderAccepted','OrderCancelled']\n",
    "    me = Object()\n",
    "    me.Type = typeOrder[0]\n",
    "    me.Data = Object()\n",
    "    me.Data.OrderId = (id_generator(8)+'-'+id_generator(4)+'-'+id_generator(4)+'-'+id_generator(4)+'-'+id_generator(12))\n",
    "    me.Data.TimestampUtc=hour\n",
    "    \n",
    "    \n",
    "    print (i)\n",
    "\n",
    "    print(me.toJSON())"
   ]
  },
  {
   "cell_type": "code",
   "execution_count": null,
   "metadata": {
    "collapsed": true
   },
   "outputs": [],
   "source": []
  }
 ],
 "metadata": {
  "kernelspec": {
   "display_name": "Python 3",
   "language": "python",
   "name": "python3"
  },
  "language_info": {
   "codemirror_mode": {
    "name": "ipython",
    "version": 3
   },
   "file_extension": ".py",
   "mimetype": "text/x-python",
   "name": "python",
   "nbconvert_exporter": "python",
   "pygments_lexer": "ipython3",
   "version": "3.6.4"
  }
 },
 "nbformat": 4,
 "nbformat_minor": 2
}
